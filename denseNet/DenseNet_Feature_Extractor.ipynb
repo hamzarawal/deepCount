{
 "cells": [
  {
   "cell_type": "code",
   "execution_count": 1,
   "metadata": {},
   "outputs": [],
   "source": [
    "import numpy as np\n",
    "import os\n",
    "import cv2\n",
    "from keras.optimizers import SGD\n",
    "import keras.backend as K\n",
    "import scipy.io as sio\n",
    "from keras.models import Model\n",
    "# We only test DenseNet-121 in this script for demo purpose\n",
    "from densenet121 import DenseNet"
   ]
  },
  {
   "cell_type": "code",
   "execution_count": 2,
   "metadata": {},
   "outputs": [],
   "source": [
    "weights_path = 'densenet121_weights_tf.h5'\n",
    "model = DenseNet(reduction=0.5, classes=1000, weights_path=weights_path)\n",
    "model.summary()"
   ]
  },
  {
   "cell_type": "code",
   "execution_count": 3,
   "metadata": {},
   "outputs": [],
   "source": [
    "#uncomment the line to extract partciluar features\n",
    "\n",
    "# part_model = Model(inputs=model.input, outputs=model.get_layer('relu5_blk').output)\n",
    "part_model = Model(inputs=model.input, outputs=model.get_layer('pool5').output)\n",
    "sgd = SGD(lr=1e-2, decay=1e-6, momentum=0.9, nesterov=True)\n",
    "part_model.compile(loss='categorical_crossentropy', optimizer=sgd, metrics=['accuracy'])"
   ]
  },
  {
   "cell_type": "code",
   "execution_count": 3,
   "metadata": {
    "scrolled": true
   },
   "outputs": [],
   "source": [
    "#text file containing names of images\n",
    "lines = [line.rstrip('\\n') for line in open('I:/split_images_filenames.txt')]\n",
    "\n",
    "for i in range(0,len(lines)):\n",
    "    print(i)\n",
    "    line = lines[i].split(' ')\n",
    "    image_path = os.path.join('I:/Split_Images/', line[0] + '.tif') \n",
    "\n",
    "    img = cv2.imread(image_path)\n",
    "    test_image = np.zeros((1,img.shape[0],img.shape[1],3))\n",
    "    test_image[0,:,:,:] = img[:,:,:]\n",
    "    \n",
    "    #saving the feature map\n",
    "    fmap_path = os.path.join('I:/Split_Images_feats/pool5',line[0] +'.mat')\n",
    "    feature_map = part_model.predict(test_image)\n",
    "    sio.savemat(fmap_path, {'fmap' : feature_map})"
   ]
  }
 ],
 "metadata": {
  "kernelspec": {
   "display_name": "Python 3",
   "language": "python",
   "name": "python3"
  },
  "language_info": {
   "codemirror_mode": {
    "name": "ipython",
    "version": 3
   },
   "file_extension": ".py",
   "mimetype": "text/x-python",
   "name": "python",
   "nbconvert_exporter": "python",
   "pygments_lexer": "ipython3",
   "version": "3.6.6"
  }
 },
 "nbformat": 4,
 "nbformat_minor": 2
}
