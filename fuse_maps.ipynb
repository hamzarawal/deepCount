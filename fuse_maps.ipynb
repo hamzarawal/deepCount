{
 "cells": [
  {
   "cell_type": "code",
   "execution_count": 1,
   "metadata": {},
   "outputs": [],
   "source": [
    "import scipy.io as sio\n",
    "from scipy.misc import imresize\n",
    "from PIL import Image\n",
    "import numpy as np\n",
    "import glob\n",
    "import os\n",
    "import cv2\n",
    "from skimage import transform as tf"
   ]
  },
  {
   "cell_type": "code",
   "execution_count": 2,
   "metadata": {},
   "outputs": [],
   "source": [
    "#-----------------------------\n",
    "#paths for feature maps input\n",
    "#-----------------------------\n",
    "\n",
    "#relu5_maps\n",
    "fmap_path = 'E:/blk_5_maps';\n",
    "\n",
    "#SSNet Probability Maps\n",
    "detection_maps_path = 'E:/ssnet_maps';\n",
    "\n",
    "#-----------------------------\n",
    "# paths for fused maps output\n",
    "#-----------------------------\n",
    "#product maps\n",
    "output_path_pfmaps = 'E:/pf_maps';\n",
    "\n",
    "#Global Average Pooled Vectors\n",
    "output_path_pgap_maps = 'E:/pgap_maps';\n",
    "\n",
    "#load file names\n",
    "fmaps_filenames = glob.glob(fmap_path+\"/*.mat\")\n",
    "dmaps_filenames = glob.glob(detection_maps_path+\"/*.mat\")"
   ]
  },
  {
   "cell_type": "code",
   "execution_count": 1,
   "metadata": {},
   "outputs": [],
   "source": [
    "sz = 42 #resize value\n",
    "\n",
    "for i in range(len(fmaps_filenames)):\n",
    "    \n",
    "    print(i)\n",
    "    \n",
    "    #load maps\n",
    "    fmap = sio.loadmat(fmaps_filenames[i])\n",
    "    fmap = fmap[\"fmap\"]\n",
    "    fmap = np.squeeze(fmap, axis=0)\n",
    "    \n",
    "    #bilinear interpolation\n",
    "    fmap_interpolated = np.zeros((sz,sz,fmap.shape[2]))\n",
    "    for j in range(fmap.shape[2]):\n",
    "        fmap_interpolated[:,:,j] = cv2.resize(fmap[:,:,j],(sz,sz))\n",
    "    \n",
    "    dmap = sio.loadmat(dmaps_filenames[i])\n",
    "    dmap = dmap[\"Prob\"]\n",
    "\n",
    "    dmap = cv2.resize(dmap, (sz,sz), interpolation = cv2.INTER_LINEAR)\n",
    "\n",
    "    pfmap = np.zeros((42,42,1024))\n",
    "    pgap = np.zeros((1,1024))\n",
    "    \n",
    "    for k in range(1024):\n",
    "        pfmap[:,:,k] = np.dot(fmap_interpolated[:,:,k],dmap)\n",
    "        pgap[0,k] = np.sum(pfmap[:,:,k])/np.prod(pfmap[:,:,k].shape)\n",
    "\n",
    "    pgap = pgap.astype('float32')\n",
    "    pfmap = pfmap.astype('float32')\n",
    "    \n",
    "    #saving mat files to output paths\n",
    "    sio.savemat(output_path_pfmaps + \"/\" + os.path.basename(fmaps_filenames[i]), {\"pfmap\": pfmap})\n",
    "    sio.savemat(output_path_pgap_maps + \"/\" + os.path.basename(fmaps_filenames[i]), {\"Pgap\": pgap})\n"
   ]
  }
 ],
 "metadata": {
  "kernelspec": {
   "display_name": "Python 3",
   "language": "python",
   "name": "python3"
  },
  "language_info": {
   "codemirror_mode": {
    "name": "ipython",
    "version": 3
   },
   "file_extension": ".py",
   "mimetype": "text/x-python",
   "name": "python",
   "nbconvert_exporter": "python",
   "pygments_lexer": "ipython3",
   "version": "3.6.6"
  }
 },
 "nbformat": 4,
 "nbformat_minor": 2
}
